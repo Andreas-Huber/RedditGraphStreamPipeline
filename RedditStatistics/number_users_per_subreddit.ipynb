{
 "cells": [
  {
   "cell_type": "code",
   "execution_count": 1,
   "metadata": {},
   "outputs": [],
   "source": [
    "from settings_load import *\n",
    "from export_user_count import load_users_count_df\n",
    "import pandas as pd\n",
    "import matplotlib as mpl\n",
    "import matplotlib.pyplot as plt\n",
    "import os"
   ]
  },
  {
   "cell_type": "markdown",
   "metadata": {
    "tags": []
   },
   "source": [
    "# Number of unique users in subreddits between 2005-2019\n",
    "A unique user is a user/author/contributor that posted or commented at least once."
   ]
  },
  {
   "cell_type": "code",
   "execution_count": 2,
   "metadata": {
    "pycharm": {
     "name": "#%%\n"
    }
   },
   "outputs": [],
   "source": [
    "df_uis = load_users_count_df(\"UsersInSubreddits_2005-2019.csv\")"
   ]
  },
  {
   "cell_type": "code",
   "execution_count": 3,
   "metadata": {
    "pycharm": {
     "name": "#%%\n"
    }
   },
   "outputs": [
    {
     "data": {
      "text/html": [
       "<div>\n",
       "<style scoped>\n",
       "    .dataframe tbody tr th:only-of-type {\n",
       "        vertical-align: middle;\n",
       "    }\n",
       "\n",
       "    .dataframe tbody tr th {\n",
       "        vertical-align: top;\n",
       "    }\n",
       "\n",
       "    .dataframe thead th {\n",
       "        text-align: right;\n",
       "    }\n",
       "</style>\n",
       "<table border=\"1\" class=\"dataframe\">\n",
       "  <thead>\n",
       "    <tr style=\"text-align: right;\">\n",
       "      <th></th>\n",
       "      <th>subreddit</th>\n",
       "      <th>count</th>\n",
       "    </tr>\n",
       "  </thead>\n",
       "  <tbody>\n",
       "    <tr>\n",
       "      <th>3147015</th>\n",
       "      <td>AskReddit</td>\n",
       "      <td>71233827</td>\n",
       "    </tr>\n",
       "    <tr>\n",
       "      <th>2432236</th>\n",
       "      <td>funny</td>\n",
       "      <td>28882078</td>\n",
       "    </tr>\n",
       "    <tr>\n",
       "      <th>1526473</th>\n",
       "      <td>pics</td>\n",
       "      <td>25886189</td>\n",
       "    </tr>\n",
       "    <tr>\n",
       "      <th>2242480</th>\n",
       "      <td>gaming</td>\n",
       "      <td>19312574</td>\n",
       "    </tr>\n",
       "    <tr>\n",
       "      <th>2389878</th>\n",
       "      <td>videos</td>\n",
       "      <td>16283626</td>\n",
       "    </tr>\n",
       "    <tr>\n",
       "      <th>2167683</th>\n",
       "      <td>todayilearned</td>\n",
       "      <td>14796435</td>\n",
       "    </tr>\n",
       "    <tr>\n",
       "      <th>42652</th>\n",
       "      <td>WTF</td>\n",
       "      <td>13238354</td>\n",
       "    </tr>\n",
       "    <tr>\n",
       "      <th>3474798</th>\n",
       "      <td>worldnews</td>\n",
       "      <td>12908501</td>\n",
       "    </tr>\n",
       "    <tr>\n",
       "      <th>47846</th>\n",
       "      <td>aww</td>\n",
       "      <td>12354192</td>\n",
       "    </tr>\n",
       "    <tr>\n",
       "      <th>942155</th>\n",
       "      <td>politics</td>\n",
       "      <td>11478928</td>\n",
       "    </tr>\n",
       "  </tbody>\n",
       "</table>\n",
       "</div>"
      ],
      "text/plain": [
       "             subreddit     count\n",
       "3147015      AskReddit  71233827\n",
       "2432236          funny  28882078\n",
       "1526473           pics  25886189\n",
       "2242480         gaming  19312574\n",
       "2389878         videos  16283626\n",
       "2167683  todayilearned  14796435\n",
       "42652              WTF  13238354\n",
       "3474798      worldnews  12908501\n",
       "47846              aww  12354192\n",
       "942155        politics  11478928"
      ]
     },
     "execution_count": 3,
     "metadata": {},
     "output_type": "execute_result"
    }
   ],
   "source": [
    "top_ten = df_uis.nlargest(10, 'count')\n",
    "top_ten.sort_values(by='count', ascending=False)\n",
    "\n",
    "# Write to tex table\n",
    "tex_file = os.path.join(settings.TABLES_DIR, \"top10_subreddits_by_number_of_unique_users_2005-2019.tex\")\n",
    "top_ten.to_latex(buf=tex_file, index=False)\n",
    "\n",
    "top_ten"
   ]
  },
  {
   "cell_type": "code",
   "execution_count": 4,
   "metadata": {},
   "outputs": [
    {
     "data": {
      "image/png": "[encoded data removed]",
      "text/plain": [
       "<Figure size 1152x648 with 1 Axes>"
      ]
     },
     "metadata": {
      "needs_background": "light"
     },
     "output_type": "display_data"
    }
   ],
   "source": [
    "fig, ax = plt.subplots(figsize=(16, 9))\n",
    "\n",
    "plt.title('Histogram of number of unique users per subreddit (2005-2019)')\n",
    "plt.xlabel('Number of unique users in subreddit')\n",
    "plt.ylabel('Number of subreddits')\n",
    "\n",
    "df_uis[\"count\"].hist(ax=ax, log=True, bins=100, grid=False, color='#FA5732')\n",
    "\n",
    "plt.savefig(os.path.join(settings.FIGURES_DIR, \"number_of_unique_users_per_subreddit_2005-2019.pdf\"))"
   ]
  },
  {
   "cell_type": "markdown",
   "metadata": {
    "tags": []
   },
   "source": [
    "# Number of contributions in subreddits between 2005-2019\n",
    "A contribution is a single submission/post or comment. Submissions and comments are weighted the same. Meaning for every post or comment in a subreddit, the count was incremented by one."
   ]
  },
  {
   "cell_type": "code",
   "execution_count": 5,
   "metadata": {
    "pycharm": {
     "name": "#%%\n"
    }
   },
   "outputs": [],
   "source": [
    "df_ucis = load_users_count_df(\"UserContributionsInSubreddits_2005-2019.csv\")"
   ]
  },
  {
   "cell_type": "code",
   "execution_count": 6,
   "metadata": {
    "pycharm": {
     "name": "#%%\n"
    }
   },
   "outputs": [
    {
     "data": {
      "text/html": [
       "<div>\n",
       "<style scoped>\n",
       "    .dataframe tbody tr th:only-of-type {\n",
       "        vertical-align: middle;\n",
       "    }\n",
       "\n",
       "    .dataframe tbody tr th {\n",
       "        vertical-align: top;\n",
       "    }\n",
       "\n",
       "    .dataframe thead th {\n",
       "        text-align: right;\n",
       "    }\n",
       "</style>\n",
       "<table border=\"1\" class=\"dataframe\">\n",
       "  <thead>\n",
       "    <tr style=\"text-align: right;\">\n",
       "      <th></th>\n",
       "      <th>subreddit</th>\n",
       "      <th>count</th>\n",
       "    </tr>\n",
       "  </thead>\n",
       "  <tbody>\n",
       "    <tr>\n",
       "      <th>3582227</th>\n",
       "      <td>AskReddit</td>\n",
       "      <td>508529584</td>\n",
       "    </tr>\n",
       "    <tr>\n",
       "      <th>1073303</th>\n",
       "      <td>politics</td>\n",
       "      <td>121041987</td>\n",
       "    </tr>\n",
       "    <tr>\n",
       "      <th>2768587</th>\n",
       "      <td>funny</td>\n",
       "      <td>100436096</td>\n",
       "    </tr>\n",
       "    <tr>\n",
       "      <th>1737377</th>\n",
       "      <td>pics</td>\n",
       "      <td>88154864</td>\n",
       "    </tr>\n",
       "    <tr>\n",
       "      <th>3464788</th>\n",
       "      <td>leagueoflegends</td>\n",
       "      <td>72562127</td>\n",
       "    </tr>\n",
       "    <tr>\n",
       "      <th>2552561</th>\n",
       "      <td>gaming</td>\n",
       "      <td>68271941</td>\n",
       "    </tr>\n",
       "    <tr>\n",
       "      <th>3955893</th>\n",
       "      <td>worldnews</td>\n",
       "      <td>67099490</td>\n",
       "    </tr>\n",
       "    <tr>\n",
       "      <th>61985</th>\n",
       "      <td>nba</td>\n",
       "      <td>66082257</td>\n",
       "    </tr>\n",
       "    <tr>\n",
       "      <th>62083</th>\n",
       "      <td>nfl</td>\n",
       "      <td>63448568</td>\n",
       "    </tr>\n",
       "    <tr>\n",
       "      <th>1705201</th>\n",
       "      <td>news</td>\n",
       "      <td>53710557</td>\n",
       "    </tr>\n",
       "  </tbody>\n",
       "</table>\n",
       "</div>"
      ],
      "text/plain": [
       "               subreddit      count\n",
       "3582227        AskReddit  508529584\n",
       "1073303         politics  121041987\n",
       "2768587            funny  100436096\n",
       "1737377             pics   88154864\n",
       "3464788  leagueoflegends   72562127\n",
       "2552561           gaming   68271941\n",
       "3955893        worldnews   67099490\n",
       "61985                nba   66082257\n",
       "62083                nfl   63448568\n",
       "1705201             news   53710557"
      ]
     },
     "execution_count": 6,
     "metadata": {},
     "output_type": "execute_result"
    }
   ],
   "source": [
    "top_ten = df_ucis.nlargest(10, 'count')\n",
    "top_ten.sort_values(by='count', ascending=False)\n",
    "\n",
    "# Write to tex table\n",
    "tex_file = os.path.join(settings.TABLES_DIR, \"top10_subreddits_by_number_of_contributions_2005-2019.tex\")\n",
    "top_ten.to_latex(buf=tex_file, index=False)\n",
    "\n",
    "top_ten"
   ]
  },
  {
   "cell_type": "code",
   "execution_count": 7,
   "metadata": {
    "tags": []
   },
   "outputs": [
    {
     "data": {
      "image/png": "[encoded data removed]",
      "text/plain": [
       "<Figure size 1152x648 with 1 Axes>"
      ]
     },
     "metadata": {
      "needs_background": "light"
     },
     "output_type": "display_data"
    }
   ],
   "source": [
    "fig, ax = plt.subplots(figsize=(16, 9))\n",
    "\n",
    "plt.title('Histogram of number of contributions per subreddit (2005-2019)')\n",
    "plt.xlabel('Number of contributions in subreddit')\n",
    "plt.ylabel('Number of subreddits')\n",
    "\n",
    "df_ucis[\"count\"].hist(ax=ax, log=True, bins=100, grid=False, color='#FA5732')\n",
    "\n",
    "plt.savefig(os.path.join(settings.FIGURES_DIR, \"number_of_contribuitions_per_subreddit_2005-2019.pdf\"))"
   ]
  }
 ],
 "metadata": {
  "kernelspec": {
   "display_name": "Python 3 (ipykernel)",
   "language": "python",
   "name": "python3"
  },
  "language_info": {
   "codemirror_mode": {
    "name": "ipython",
    "version": 3
   },
   "file_extension": ".py",
   "mimetype": "text/x-python",
   "name": "python",
   "nbconvert_exporter": "python",
   "pygments_lexer": "ipython3",
   "version": "3.9.2"
  }
 },
 "nbformat": 4,
 "nbformat_minor": 4
}