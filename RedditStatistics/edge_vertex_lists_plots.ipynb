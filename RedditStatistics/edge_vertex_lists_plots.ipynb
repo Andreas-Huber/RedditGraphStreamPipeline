{
 "cells": [
  {
   "cell_type": "code",
   "execution_count": 1,
   "id": "worse-roller",
   "metadata": {},
   "outputs": [],
   "source": [
    "from settings_load import *\n",
    "import pandas as pd\n",
    "import matplotlib.pyplot as plt\n",
    "import os\n",
    "import numpy as np"
   ]
  },
  {
   "cell_type": "code",
   "execution_count": 2,
   "id": "danish-hudson",
   "metadata": {},
   "outputs": [],
   "source": [
    "def load_edgelist_csv(csv_name: str) -> pd.DataFrame:\n",
    "    \"\"\"\n",
    "    Load user, count dataframe from csv\n",
    "    :type csv_name: str\n",
    "    \"\"\"\n",
    "    path = os.path.join(settings.GRAPHS_DIR, csv_name)\n",
    "    dataframe = pd.read_csv(path, header=0)\n",
    "    dataframe[\"i\"] = dataframe[\"i\"].astype(\"string\")\n",
    "    dataframe[\"j\"] = dataframe[\"j\"].astype(\"string\")\n",
    "    return dataframe"
   ]
  },
  {
   "cell_type": "code",
   "execution_count": 3,
   "id": "earlier-residence",
   "metadata": {},
   "outputs": [],
   "source": [
    "def load_vertexlist_csv(csv_name: str) -> pd.DataFrame:\n",
    "    \"\"\"\n",
    "    Load user, count dataframe from csv\n",
    "    :type csv_name: str\n",
    "    \"\"\"\n",
    "    path = os.path.join(settings.GRAPHS_DIR, csv_name)\n",
    "    dataframe = pd.read_csv(path, header=0)\n",
    "    dataframe[\"i\"] = dataframe[\"i\"].astype(\"string\")\n",
    "    return dataframe"
   ]
  },
  {
   "cell_type": "code",
   "execution_count": 4,
   "id": "saving-stake",
   "metadata": {},
   "outputs": [],
   "source": [
    "def plot_column_hist(df:pd.DataFrame, list_type:str, col:str, year:str, topn:str):\n",
    "    fig, ax = plt.subplots(figsize=(3, 3))\n",
    "    \n",
    "    plt.tight_layout()\n",
    "    plt.subplots_adjust(left=0.2)\n",
    "    \n",
    "    #plt.title(f\"{list_type} list {col} for the top {topn} subreddits from {year}\")\n",
    "    plt.xlabel(\" \")\n",
    "    plt.ylabel('Number of subreddits')\n",
    "\n",
    "    df[col].hist(ax=ax, log=True, bins=100, grid=False, color='#6b6b6b')\n",
    "    \n",
    "    plt.savefig(os.path.join(settings.FIGURES_DIR, f\"sr-user_{year}_filteredby_UsersInSubreddits_{year}~top-{topn}.{list_type}~{col}.pdf\")) # bbox_inches='tight'\n",
    "    "
   ]
  },
  {
   "cell_type": "code",
   "execution_count": null,
   "id": "7b5f677e-d55a-4ab8-a584-a53a5afa87a9",
   "metadata": {},
   "outputs": [],
   "source": []
  },
  {
   "cell_type": "markdown",
   "id": "british-allocation",
   "metadata": {},
   "source": [
    "# Settings"
   ]
  },
  {
   "cell_type": "code",
   "execution_count": 5,
   "id": "according-patrick",
   "metadata": {},
   "outputs": [],
   "source": [
    "year = \"2005-2019\"\n",
    "topn = \"10000\""
   ]
  },
  {
   "cell_type": "markdown",
   "id": "southern-origin",
   "metadata": {},
   "source": [
    "# Edge list Data Frame"
   ]
  },
  {
   "cell_type": "code",
   "execution_count": 6,
   "id": "smaller-illustration",
   "metadata": {},
   "outputs": [
    {
     "data": {
      "text/html": [
       "<div>\n",
       "<style scoped>\n",
       "    .dataframe tbody tr th:only-of-type {\n",
       "        vertical-align: middle;\n",
       "    }\n",
       "\n",
       "    .dataframe tbody tr th {\n",
       "        vertical-align: top;\n",
       "    }\n",
       "\n",
       "    .dataframe thead th {\n",
       "        text-align: right;\n",
       "    }\n",
       "</style>\n",
       "<table border=\"1\" class=\"dataframe\">\n",
       "  <thead>\n",
       "    <tr style=\"text-align: right;\">\n",
       "      <th></th>\n",
       "      <th>i</th>\n",
       "      <th>j</th>\n",
       "      <th>U_ij</th>\n",
       "      <th>degree_i</th>\n",
       "      <th>degree_j</th>\n",
       "      <th>weighted-degree_i</th>\n",
       "      <th>weighted-degree_j</th>\n",
       "      <th>avg-weighted-edge-weight_i</th>\n",
       "      <th>avg-weighted-edge-weight_j</th>\n",
       "      <th>W_ij</th>\n",
       "    </tr>\n",
       "  </thead>\n",
       "  <tbody>\n",
       "    <tr>\n",
       "      <th>0</th>\n",
       "      <td>PewdiepieSubmissions</td>\n",
       "      <td>memes</td>\n",
       "      <td>374674</td>\n",
       "      <td>9998</td>\n",
       "      <td>9998</td>\n",
       "      <td>34897630.0</td>\n",
       "      <td>79907269.0</td>\n",
       "      <td>3490.461092</td>\n",
       "      <td>7992.325365</td>\n",
       "      <td>65.258376</td>\n",
       "    </tr>\n",
       "    <tr>\n",
       "      <th>1</th>\n",
       "      <td>dating_advice</td>\n",
       "      <td>medical</td>\n",
       "      <td>3830</td>\n",
       "      <td>9998</td>\n",
       "      <td>9998</td>\n",
       "      <td>15595055.0</td>\n",
       "      <td>4830912.0</td>\n",
       "      <td>1559.817463</td>\n",
       "      <td>483.187838</td>\n",
       "      <td>3.749378</td>\n",
       "    </tr>\n",
       "    <tr>\n",
       "      <th>2</th>\n",
       "      <td>dating_advice</td>\n",
       "      <td>AskDocs</td>\n",
       "      <td>12379</td>\n",
       "      <td>9998</td>\n",
       "      <td>9998</td>\n",
       "      <td>15595055.0</td>\n",
       "      <td>14715081.0</td>\n",
       "      <td>1559.817463</td>\n",
       "      <td>1471.802460</td>\n",
       "      <td>8.166591</td>\n",
       "    </tr>\n",
       "    <tr>\n",
       "      <th>3</th>\n",
       "      <td>dating_advice</td>\n",
       "      <td>valkyrie_en</td>\n",
       "      <td>90</td>\n",
       "      <td>9998</td>\n",
       "      <td>9983</td>\n",
       "      <td>15595055.0</td>\n",
       "      <td>411429.0</td>\n",
       "      <td>1559.817463</td>\n",
       "      <td>41.212962</td>\n",
       "      <td>0.112428</td>\n",
       "    </tr>\n",
       "    <tr>\n",
       "      <th>4</th>\n",
       "      <td>dating_advice</td>\n",
       "      <td>headphones</td>\n",
       "      <td>4547</td>\n",
       "      <td>9998</td>\n",
       "      <td>9998</td>\n",
       "      <td>15595055.0</td>\n",
       "      <td>14356181.0</td>\n",
       "      <td>1559.817463</td>\n",
       "      <td>1435.905281</td>\n",
       "      <td>3.035661</td>\n",
       "    </tr>\n",
       "    <tr>\n",
       "      <th>...</th>\n",
       "      <td>...</td>\n",
       "      <td>...</td>\n",
       "      <td>...</td>\n",
       "      <td>...</td>\n",
       "      <td>...</td>\n",
       "      <td>...</td>\n",
       "      <td>...</td>\n",
       "      <td>...</td>\n",
       "      <td>...</td>\n",
       "      <td>...</td>\n",
       "    </tr>\n",
       "    <tr>\n",
       "      <th>49966780</th>\n",
       "      <td>FIFACoins</td>\n",
       "      <td>WalgreensStores</td>\n",
       "      <td>1</td>\n",
       "      <td>9045</td>\n",
       "      <td>9990</td>\n",
       "      <td>283217.0</td>\n",
       "      <td>337543.0</td>\n",
       "      <td>31.311996</td>\n",
       "      <td>33.788088</td>\n",
       "      <td>0.030722</td>\n",
       "    </tr>\n",
       "    <tr>\n",
       "      <th>49966781</th>\n",
       "      <td>IsaacArthur</td>\n",
       "      <td>poketradereferences</td>\n",
       "      <td>1</td>\n",
       "      <td>9989</td>\n",
       "      <td>9786</td>\n",
       "      <td>592296.0</td>\n",
       "      <td>842327.0</td>\n",
       "      <td>59.294824</td>\n",
       "      <td>86.074699</td>\n",
       "      <td>0.013758</td>\n",
       "    </tr>\n",
       "    <tr>\n",
       "      <th>49966782</th>\n",
       "      <td>illnessfakers</td>\n",
       "      <td>codbo</td>\n",
       "      <td>1</td>\n",
       "      <td>9989</td>\n",
       "      <td>9647</td>\n",
       "      <td>798939.0</td>\n",
       "      <td>799820.0</td>\n",
       "      <td>79.981880</td>\n",
       "      <td>82.908676</td>\n",
       "      <td>0.012278</td>\n",
       "    </tr>\n",
       "    <tr>\n",
       "      <th>49966783</th>\n",
       "      <td>SteamGameSwap</td>\n",
       "      <td>DadsAndBoys</td>\n",
       "      <td>1</td>\n",
       "      <td>9995</td>\n",
       "      <td>9973</td>\n",
       "      <td>6943646.0</td>\n",
       "      <td>339894.0</td>\n",
       "      <td>694.711956</td>\n",
       "      <td>34.081420</td>\n",
       "      <td>0.002744</td>\n",
       "    </tr>\n",
       "    <tr>\n",
       "      <th>49966784</th>\n",
       "      <td>MTFSelfieTrain</td>\n",
       "      <td>proper</td>\n",
       "      <td>1</td>\n",
       "      <td>9986</td>\n",
       "      <td>9736</td>\n",
       "      <td>507765.0</td>\n",
       "      <td>915173.0</td>\n",
       "      <td>50.847687</td>\n",
       "      <td>93.998870</td>\n",
       "      <td>0.013808</td>\n",
       "    </tr>\n",
       "  </tbody>\n",
       "</table>\n",
       "<p>49966785 rows × 10 columns</p>\n",
       "</div>"
      ],
      "text/plain": [
       "                             i                    j    U_ij  degree_i  \\\n",
       "0         PewdiepieSubmissions                memes  374674      9998   \n",
       "1                dating_advice              medical    3830      9998   \n",
       "2                dating_advice              AskDocs   12379      9998   \n",
       "3                dating_advice          valkyrie_en      90      9998   \n",
       "4                dating_advice           headphones    4547      9998   \n",
       "...                        ...                  ...     ...       ...   \n",
       "49966780             FIFACoins      WalgreensStores       1      9045   \n",
       "49966781           IsaacArthur  poketradereferences       1      9989   \n",
       "49966782         illnessfakers                codbo       1      9989   \n",
       "49966783         SteamGameSwap          DadsAndBoys       1      9995   \n",
       "49966784        MTFSelfieTrain               proper       1      9986   \n",
       "\n",
       "          degree_j  weighted-degree_i  weighted-degree_j  \\\n",
       "0             9998         34897630.0         79907269.0   \n",
       "1             9998         15595055.0          4830912.0   \n",
       "2             9998         15595055.0         14715081.0   \n",
       "3             9983         15595055.0           411429.0   \n",
       "4             9998         15595055.0         14356181.0   \n",
       "...            ...                ...                ...   \n",
       "49966780      9990           283217.0           337543.0   \n",
       "49966781      9786           592296.0           842327.0   \n",
       "49966782      9647           798939.0           799820.0   \n",
       "49966783      9973          6943646.0           339894.0   \n",
       "49966784      9736           507765.0           915173.0   \n",
       "\n",
       "          avg-weighted-edge-weight_i  avg-weighted-edge-weight_j       W_ij  \n",
       "0                        3490.461092                 7992.325365  65.258376  \n",
       "1                        1559.817463                  483.187838   3.749378  \n",
       "2                        1559.817463                 1471.802460   8.166591  \n",
       "3                        1559.817463                   41.212962   0.112428  \n",
       "4                        1559.817463                 1435.905281   3.035661  \n",
       "...                              ...                         ...        ...  \n",
       "49966780                   31.311996                   33.788088   0.030722  \n",
       "49966781                   59.294824                   86.074699   0.013758  \n",
       "49966782                   79.981880                   82.908676   0.012278  \n",
       "49966783                  694.711956                   34.081420   0.002744  \n",
       "49966784                   50.847687                   93.998870   0.013808  \n",
       "\n",
       "[49966785 rows x 10 columns]"
      ]
     },
     "execution_count": 6,
     "metadata": {},
     "output_type": "execute_result"
    }
   ],
   "source": [
    "edge_df = load_edgelist_csv(f\"sr-user_{year}_filteredby_UsersInSubreddits_{year}~top-{topn}.edge.csv\")\n",
    "edge_df"
   ]
  },
  {
   "cell_type": "markdown",
   "id": "222e3774-b99a-4200-b261-26a8504cb2f1",
   "metadata": {},
   "source": [
    "## Determine edges to filter graph\n"
   ]
  },
  {
   "cell_type": "code",
   "execution_count": 7,
   "id": "c121b2b3-f235-4221-9759-c53b727968dd",
   "metadata": {},
   "outputs": [
    {
     "data": {
      "image/png": "[encoded data removed]",
      "text/plain": [
       "<Figure size 216x216 with 1 Axes>"
      ]
     },
     "metadata": {
      "needs_background": "light"
     },
     "output_type": "display_data"
    }
   ],
   "source": [
    "plot_column_hist(edge_df, \"Edge\", \"W_ij\", year, topn)"
   ]
  },
  {
   "cell_type": "code",
   "execution_count": 8,
   "id": "5f37b79c-accd-4350-abdc-4fc6e00634e7",
   "metadata": {},
   "outputs": [
    {
     "data": {
      "text/html": [
       "<div>\n",
       "<style scoped>\n",
       "    .dataframe tbody tr th:only-of-type {\n",
       "        vertical-align: middle;\n",
       "    }\n",
       "\n",
       "    .dataframe tbody tr th {\n",
       "        vertical-align: top;\n",
       "    }\n",
       "\n",
       "    .dataframe thead th {\n",
       "        text-align: right;\n",
       "    }\n",
       "</style>\n",
       "<table border=\"1\" class=\"dataframe\">\n",
       "  <thead>\n",
       "    <tr style=\"text-align: right;\">\n",
       "      <th></th>\n",
       "      <th>i</th>\n",
       "      <th>j</th>\n",
       "      <th>U_ij</th>\n",
       "      <th>degree_i</th>\n",
       "      <th>degree_j</th>\n",
       "      <th>weighted-degree_i</th>\n",
       "      <th>weighted-degree_j</th>\n",
       "      <th>avg-weighted-edge-weight_i</th>\n",
       "      <th>avg-weighted-edge-weight_j</th>\n",
       "      <th>W_ij</th>\n",
       "    </tr>\n",
       "  </thead>\n",
       "  <tbody>\n",
       "    <tr>\n",
       "      <th>9671977</th>\n",
       "      <td>xDACplatform</td>\n",
       "      <td>cotrader</td>\n",
       "      <td>1950</td>\n",
       "      <td>9949</td>\n",
       "      <td>9942</td>\n",
       "      <td>73066.0</td>\n",
       "      <td>77399.0</td>\n",
       "      <td>7.344055</td>\n",
       "      <td>7.785053</td>\n",
       "      <td>257.781226</td>\n",
       "    </tr>\n",
       "    <tr>\n",
       "      <th>475978</th>\n",
       "      <td>cotrader</td>\n",
       "      <td>Qobit</td>\n",
       "      <td>1451</td>\n",
       "      <td>9942</td>\n",
       "      <td>9902</td>\n",
       "      <td>77399.0</td>\n",
       "      <td>36723.0</td>\n",
       "      <td>7.785053</td>\n",
       "      <td>3.708645</td>\n",
       "      <td>252.486188</td>\n",
       "    </tr>\n",
       "    <tr>\n",
       "      <th>2126074</th>\n",
       "      <td>hcteams</td>\n",
       "      <td>kohi</td>\n",
       "      <td>6377</td>\n",
       "      <td>9990</td>\n",
       "      <td>9994</td>\n",
       "      <td>303922.0</td>\n",
       "      <td>304554.0</td>\n",
       "      <td>30.422623</td>\n",
       "      <td>30.473684</td>\n",
       "      <td>209.437988</td>\n",
       "    </tr>\n",
       "    <tr>\n",
       "      <th>5217494</th>\n",
       "      <td>JeremyFrieser</td>\n",
       "      <td>Gamemeneersubmissies</td>\n",
       "      <td>4954</td>\n",
       "      <td>9971</td>\n",
       "      <td>9961</td>\n",
       "      <td>189039.0</td>\n",
       "      <td>330915.0</td>\n",
       "      <td>18.958881</td>\n",
       "      <td>33.221062</td>\n",
       "      <td>189.881388</td>\n",
       "    </tr>\n",
       "    <tr>\n",
       "      <th>797</th>\n",
       "      <td>AskReddit</td>\n",
       "      <td>funny</td>\n",
       "      <td>4148758</td>\n",
       "      <td>9998</td>\n",
       "      <td>9998</td>\n",
       "      <td>321102092.0</td>\n",
       "      <td>249839200.0</td>\n",
       "      <td>32116.632527</td>\n",
       "      <td>24988.917784</td>\n",
       "      <td>145.301393</td>\n",
       "    </tr>\n",
       "    <tr>\n",
       "      <th>...</th>\n",
       "      <td>...</td>\n",
       "      <td>...</td>\n",
       "      <td>...</td>\n",
       "      <td>...</td>\n",
       "      <td>...</td>\n",
       "      <td>...</td>\n",
       "      <td>...</td>\n",
       "      <td>...</td>\n",
       "      <td>...</td>\n",
       "      <td>...</td>\n",
       "    </tr>\n",
       "    <tr>\n",
       "      <th>30336</th>\n",
       "      <td>creepy</td>\n",
       "      <td>sports</td>\n",
       "      <td>208997</td>\n",
       "      <td>9998</td>\n",
       "      <td>9998</td>\n",
       "      <td>64121254.0</td>\n",
       "      <td>75145901.0</td>\n",
       "      <td>6413.408082</td>\n",
       "      <td>7516.093319</td>\n",
       "      <td>30.007822</td>\n",
       "    </tr>\n",
       "    <tr>\n",
       "      <th>24828</th>\n",
       "      <td>GetMotivated</td>\n",
       "      <td>IAmA</td>\n",
       "      <td>328000</td>\n",
       "      <td>9998</td>\n",
       "      <td>9998</td>\n",
       "      <td>63265996.0</td>\n",
       "      <td>155316605.0</td>\n",
       "      <td>6327.865173</td>\n",
       "      <td>15534.767453</td>\n",
       "      <td>30.005536</td>\n",
       "    </tr>\n",
       "    <tr>\n",
       "      <th>51626</th>\n",
       "      <td>instant_regret</td>\n",
       "      <td>Whatcouldgowrong</td>\n",
       "      <td>187238</td>\n",
       "      <td>9998</td>\n",
       "      <td>9998</td>\n",
       "      <td>53213226.0</td>\n",
       "      <td>71566161.0</td>\n",
       "      <td>5322.387077</td>\n",
       "      <td>7158.047710</td>\n",
       "      <td>30.005044</td>\n",
       "    </tr>\n",
       "    <tr>\n",
       "      <th>3762441</th>\n",
       "      <td>txstate</td>\n",
       "      <td>sanmarcos</td>\n",
       "      <td>1301</td>\n",
       "      <td>9998</td>\n",
       "      <td>9997</td>\n",
       "      <td>436857.0</td>\n",
       "      <td>430155.0</td>\n",
       "      <td>43.694439</td>\n",
       "      <td>43.028409</td>\n",
       "      <td>30.003627</td>\n",
       "    </tr>\n",
       "    <tr>\n",
       "      <th>161651</th>\n",
       "      <td>unpopularopinion</td>\n",
       "      <td>RoastMe</td>\n",
       "      <td>195111</td>\n",
       "      <td>9998</td>\n",
       "      <td>9998</td>\n",
       "      <td>64326109.0</td>\n",
       "      <td>65710787.0</td>\n",
       "      <td>6433.897680</td>\n",
       "      <td>6572.393179</td>\n",
       "      <td>30.002558</td>\n",
       "    </tr>\n",
       "  </tbody>\n",
       "</table>\n",
       "<p>2864 rows × 10 columns</p>\n",
       "</div>"
      ],
      "text/plain": [
       "                        i                     j     U_ij  degree_i  degree_j  \\\n",
       "9671977      xDACplatform              cotrader     1950      9949      9942   \n",
       "475978           cotrader                 Qobit     1451      9942      9902   \n",
       "2126074           hcteams                  kohi     6377      9990      9994   \n",
       "5217494     JeremyFrieser  Gamemeneersubmissies     4954      9971      9961   \n",
       "797             AskReddit                 funny  4148758      9998      9998   \n",
       "...                   ...                   ...      ...       ...       ...   \n",
       "30336              creepy                sports   208997      9998      9998   \n",
       "24828        GetMotivated                  IAmA   328000      9998      9998   \n",
       "51626      instant_regret      Whatcouldgowrong   187238      9998      9998   \n",
       "3762441           txstate             sanmarcos     1301      9998      9997   \n",
       "161651   unpopularopinion               RoastMe   195111      9998      9998   \n",
       "\n",
       "         weighted-degree_i  weighted-degree_j  avg-weighted-edge-weight_i  \\\n",
       "9671977            73066.0            77399.0                    7.344055   \n",
       "475978             77399.0            36723.0                    7.785053   \n",
       "2126074           303922.0           304554.0                   30.422623   \n",
       "5217494           189039.0           330915.0                   18.958881   \n",
       "797            321102092.0        249839200.0                32116.632527   \n",
       "...                    ...                ...                         ...   \n",
       "30336           64121254.0         75145901.0                 6413.408082   \n",
       "24828           63265996.0        155316605.0                 6327.865173   \n",
       "51626           53213226.0         71566161.0                 5322.387077   \n",
       "3762441           436857.0           430155.0                   43.694439   \n",
       "161651          64326109.0         65710787.0                 6433.897680   \n",
       "\n",
       "         avg-weighted-edge-weight_j        W_ij  \n",
       "9671977                    7.785053  257.781226  \n",
       "475978                     3.708645  252.486188  \n",
       "2126074                   30.473684  209.437988  \n",
       "5217494                   33.221062  189.881388  \n",
       "797                    24988.917784  145.301393  \n",
       "...                             ...         ...  \n",
       "30336                   7516.093319   30.007822  \n",
       "24828                  15534.767453   30.005536  \n",
       "51626                   7158.047710   30.005044  \n",
       "3762441                   43.028409   30.003627  \n",
       "161651                  6572.393179   30.002558  \n",
       "\n",
       "[2864 rows x 10 columns]"
      ]
     },
     "execution_count": 8,
     "metadata": {},
     "output_type": "execute_result"
    }
   ],
   "source": [
    "                 \n",
    "df_mask=edge_df['W_ij']>=30\n",
    "filtered_df = edge_df[df_mask]\n",
    "filtered_df = filtered_df.sort_values(by='W_ij', ascending=False)\n",
    "filtered_df"
   ]
  },
  {
   "cell_type": "code",
   "execution_count": null,
   "id": "2fb496ee-fad9-422b-92b7-00fed9eec5fa",
   "metadata": {},
   "outputs": [],
   "source": []
  },
  {
   "cell_type": "code",
   "execution_count": null,
   "id": "be504236-49e3-4d0d-bce8-ca141ce15f46",
   "metadata": {},
   "outputs": [],
   "source": []
  },
  {
   "cell_type": "markdown",
   "id": "republican-heather",
   "metadata": {},
   "source": [
    "## Edge list column plots"
   ]
  },
  {
   "cell_type": "code",
   "execution_count": 9,
   "id": "contrary-slope",
   "metadata": {},
   "outputs": [
    {
     "data": {
      "image/png": "[encoded data removed]",
      "text/plain": [
       "<Figure size 216x216 with 1 Axes>"
      ]
     },
     "metadata": {
      "needs_background": "light"
     },
     "output_type": "display_data"
    }
   ],
   "source": [
    "plot_column_hist(edge_df, \"Edge\", \"U_ij\", year, topn)"
   ]
  },
  {
   "cell_type": "code",
   "execution_count": 10,
   "id": "0ac0fc1f-5e34-4aaf-bf8f-e66dc2b2d1cf",
   "metadata": {},
   "outputs": [],
   "source": [
    "def plot_column_hist_degree(df:pd.DataFrame, list_type:str, col:str, year:str, topn:str):\n",
    "    fig, ax = plt.subplots(figsize=(3, 3))\n",
    "    fig, ax = plt.subplots(figsize=(3, 3))\n",
    "    \n",
    "    plt.tight_layout()\n",
    "    \n",
    "    #plt.title(f\"{list_type} list {col} for the top {topn} subreddits from {year}\")\n",
    "    plt.xlabel(\" \")\n",
    "    plt.ylabel('Number of subreddits')\n",
    "\n",
    "    df[col].hist(ax=ax, log=True, bins=100, grid=False, color='#6b6b6b')\n",
    "    \n",
    "    plt.savefig(os.path.join(settings.FIGURES_DIR, f\"sr-user_{year}_filteredby_UsersInSubreddits_{year}~top-{topn}.{list_type}~{col}.pdf\"), bbox_inches='tight')\n",
    "    "
   ]
  },
  {
   "cell_type": "markdown",
   "id": "divided-granny",
   "metadata": {},
   "source": [
    "Uij. User in beiden subreddits. Zeigt wenige wichtige Kanten."
   ]
  },
  {
   "cell_type": "code",
   "execution_count": 11,
   "id": "recovered-mining",
   "metadata": {},
   "outputs": [
    {
     "data": {
      "image/png": "[encoded data removed]",
      "text/plain": [
       "<Figure size 216x216 with 1 Axes>"
      ]
     },
     "metadata": {
      "needs_background": "light"
     },
     "output_type": "display_data"
    },
    {
     "data": {
      "image/png": "[encoded data removed]",
      "text/plain": [
       "<Figure size 216x216 with 1 Axes>"
      ]
     },
     "metadata": {
      "needs_background": "light"
     },
     "output_type": "display_data"
    }
   ],
   "source": [
    "plot_column_hist(edge_df, \"Edge\", \"degree_i\", year, topn)\n",
    "plot_column_hist(edge_df, \"Edge\", \"degree_j\", year, topn)\n"
   ]
  },
  {
   "cell_type": "markdown",
   "id": "external-channel",
   "metadata": {},
   "source": [
    "Viele subreddits sind \"hyperconnected\", linke hälfte zeigt die subreddits die stärker isoliert sind. (X achse nicht von 0-1)"
   ]
  },
  {
   "cell_type": "code",
   "execution_count": 12,
   "id": "cardiac-theorem",
   "metadata": {},
   "outputs": [
    {
     "data": {
      "image/png": "[encoded data removed]",
      "text/plain": [
       "<Figure size 216x216 with 1 Axes>"
      ]
     },
     "metadata": {
      "needs_background": "light"
     },
     "output_type": "display_data"
    },
    {
     "data": {
      "image/png": "[encoded data removed]",
      "text/plain": [
       "<Figure size 216x216 with 1 Axes>"
      ]
     },
     "metadata": {
      "needs_background": "light"
     },
     "output_type": "display_data"
    }
   ],
   "source": [
    "plot_column_hist(edge_df, \"Edge\", \"weighted-degree_i\", year, topn)\n",
    "plot_column_hist(edge_df, \"Edge\", \"weighted-degree_j\", year, topn)"
   ]
  },
  {
   "cell_type": "markdown",
   "id": "amazing-flashing",
   "metadata": {},
   "source": [
    "Rechte hälfte eher: Freunde, Verbündete, Gleiche, Nahestehende."
   ]
  },
  {
   "cell_type": "code",
   "execution_count": 13,
   "id": "powered-fifth",
   "metadata": {},
   "outputs": [
    {
     "data": {
      "image/png": "[encoded data removed]",
      "text/plain": [
       "<Figure size 216x216 with 1 Axes>"
      ]
     },
     "metadata": {
      "needs_background": "light"
     },
     "output_type": "display_data"
    },
    {
     "data": {
      "image/png": "[encoded data removed]",
      "text/plain": [
       "<Figure size 216x216 with 1 Axes>"
      ]
     },
     "metadata": {
      "needs_background": "light"
     },
     "output_type": "display_data"
    }
   ],
   "source": [
    "plot_column_hist(edge_df, \"Edge\", \"avg-weighted-edge-weight_i\", year, topn)\n",
    "plot_column_hist(edge_df, \"Edge\", \"avg-weighted-edge-weight_j\", year, topn)"
   ]
  },
  {
   "cell_type": "code",
   "execution_count": 14,
   "id": "medical-document",
   "metadata": {},
   "outputs": [
    {
     "data": {
      "image/png": "[encoded data removed]",
      "text/plain": [
       "<Figure size 216x216 with 1 Axes>"
      ]
     },
     "metadata": {
      "needs_background": "light"
     },
     "output_type": "display_data"
    }
   ],
   "source": [
    "plot_column_hist(edge_df, \"Edge\", \"W_ij\", year, topn)"
   ]
  },
  {
   "cell_type": "markdown",
   "id": "trained-withdrawal",
   "metadata": {},
   "source": [
    "# Vertex list data frame"
   ]
  },
  {
   "cell_type": "code",
   "execution_count": 15,
   "id": "behind-benjamin",
   "metadata": {},
   "outputs": [
    {
     "data": {
      "text/html": [
       "<div>\n",
       "<style scoped>\n",
       "    .dataframe tbody tr th:only-of-type {\n",
       "        vertical-align: middle;\n",
       "    }\n",
       "\n",
       "    .dataframe tbody tr th {\n",
       "        vertical-align: top;\n",
       "    }\n",
       "\n",
       "    .dataframe thead th {\n",
       "        text-align: right;\n",
       "    }\n",
       "</style>\n",
       "<table border=\"1\" class=\"dataframe\">\n",
       "  <thead>\n",
       "    <tr style=\"text-align: right;\">\n",
       "      <th></th>\n",
       "      <th>i</th>\n",
       "      <th>Ui</th>\n",
       "      <th>degree</th>\n",
       "      <th>weighted-degree</th>\n",
       "      <th>degree-degree</th>\n",
       "      <th>weighted-degree-degree</th>\n",
       "      <th>local-clustering-coefficient</th>\n",
       "    </tr>\n",
       "  </thead>\n",
       "  <tbody>\n",
       "    <tr>\n",
       "      <th>0</th>\n",
       "      <td>tf2</td>\n",
       "      <td>18944762</td>\n",
       "      <td>9998</td>\n",
       "      <td>1894.855171</td>\n",
       "      <td>99923572</td>\n",
       "      <td>5.330026e+07</td>\n",
       "      <td>0.999635</td>\n",
       "    </tr>\n",
       "    <tr>\n",
       "      <th>1</th>\n",
       "      <td>SCP</td>\n",
       "      <td>9792195</td>\n",
       "      <td>9998</td>\n",
       "      <td>979.415383</td>\n",
       "      <td>99923572</td>\n",
       "      <td>5.330216e+07</td>\n",
       "      <td>0.999635</td>\n",
       "    </tr>\n",
       "    <tr>\n",
       "      <th>2</th>\n",
       "      <td>CrazyIdeas</td>\n",
       "      <td>29456805</td>\n",
       "      <td>9998</td>\n",
       "      <td>2946.269754</td>\n",
       "      <td>99923572</td>\n",
       "      <td>5.329928e+07</td>\n",
       "      <td>0.999635</td>\n",
       "    </tr>\n",
       "    <tr>\n",
       "      <th>3</th>\n",
       "      <td>jailbreakdevelopers</td>\n",
       "      <td>364021</td>\n",
       "      <td>9996</td>\n",
       "      <td>36.416667</td>\n",
       "      <td>99905264</td>\n",
       "      <td>5.330509e+07</td>\n",
       "      <td>0.999669</td>\n",
       "    </tr>\n",
       "    <tr>\n",
       "      <th>4</th>\n",
       "      <td>LinusTechTips</td>\n",
       "      <td>2437998</td>\n",
       "      <td>9998</td>\n",
       "      <td>243.848570</td>\n",
       "      <td>99923572</td>\n",
       "      <td>5.330561e+07</td>\n",
       "      <td>0.999635</td>\n",
       "    </tr>\n",
       "    <tr>\n",
       "      <th>...</th>\n",
       "      <td>...</td>\n",
       "      <td>...</td>\n",
       "      <td>...</td>\n",
       "      <td>...</td>\n",
       "      <td>...</td>\n",
       "      <td>...</td>\n",
       "      <td>...</td>\n",
       "    </tr>\n",
       "    <tr>\n",
       "      <th>9994</th>\n",
       "      <td>tdi</td>\n",
       "      <td>891744</td>\n",
       "      <td>9998</td>\n",
       "      <td>89.192238</td>\n",
       "      <td>99923572</td>\n",
       "      <td>5.330711e+07</td>\n",
       "      <td>0.999635</td>\n",
       "    </tr>\n",
       "    <tr>\n",
       "      <th>9995</th>\n",
       "      <td>CK2GameOfthrones</td>\n",
       "      <td>1491944</td>\n",
       "      <td>9998</td>\n",
       "      <td>149.224245</td>\n",
       "      <td>99923572</td>\n",
       "      <td>5.330616e+07</td>\n",
       "      <td>0.999635</td>\n",
       "    </tr>\n",
       "    <tr>\n",
       "      <th>9996</th>\n",
       "      <td>Supernatural</td>\n",
       "      <td>4651567</td>\n",
       "      <td>9998</td>\n",
       "      <td>465.249750</td>\n",
       "      <td>99923572</td>\n",
       "      <td>5.330407e+07</td>\n",
       "      <td>0.999635</td>\n",
       "    </tr>\n",
       "    <tr>\n",
       "      <th>9997</th>\n",
       "      <td>delhi</td>\n",
       "      <td>543846</td>\n",
       "      <td>9995</td>\n",
       "      <td>54.411806</td>\n",
       "      <td>99894894</td>\n",
       "      <td>5.330115e+07</td>\n",
       "      <td>0.999662</td>\n",
       "    </tr>\n",
       "    <tr>\n",
       "      <th>9998</th>\n",
       "      <td>Sissyperfection</td>\n",
       "      <td>471168</td>\n",
       "      <td>9995</td>\n",
       "      <td>47.140370</td>\n",
       "      <td>99895450</td>\n",
       "      <td>5.330115e+07</td>\n",
       "      <td>0.999673</td>\n",
       "    </tr>\n",
       "  </tbody>\n",
       "</table>\n",
       "<p>9999 rows × 7 columns</p>\n",
       "</div>"
      ],
      "text/plain": [
       "                        i        Ui  degree  weighted-degree  degree-degree  \\\n",
       "0                     tf2  18944762    9998      1894.855171       99923572   \n",
       "1                     SCP   9792195    9998       979.415383       99923572   \n",
       "2              CrazyIdeas  29456805    9998      2946.269754       99923572   \n",
       "3     jailbreakdevelopers    364021    9996        36.416667       99905264   \n",
       "4           LinusTechTips   2437998    9998       243.848570       99923572   \n",
       "...                   ...       ...     ...              ...            ...   \n",
       "9994                  tdi    891744    9998        89.192238       99923572   \n",
       "9995     CK2GameOfthrones   1491944    9998       149.224245       99923572   \n",
       "9996         Supernatural   4651567    9998       465.249750       99923572   \n",
       "9997                delhi    543846    9995        54.411806       99894894   \n",
       "9998      Sissyperfection    471168    9995        47.140370       99895450   \n",
       "\n",
       "      weighted-degree-degree  local-clustering-coefficient  \n",
       "0               5.330026e+07                      0.999635  \n",
       "1               5.330216e+07                      0.999635  \n",
       "2               5.329928e+07                      0.999635  \n",
       "3               5.330509e+07                      0.999669  \n",
       "4               5.330561e+07                      0.999635  \n",
       "...                      ...                           ...  \n",
       "9994            5.330711e+07                      0.999635  \n",
       "9995            5.330616e+07                      0.999635  \n",
       "9996            5.330407e+07                      0.999635  \n",
       "9997            5.330115e+07                      0.999662  \n",
       "9998            5.330115e+07                      0.999673  \n",
       "\n",
       "[9999 rows x 7 columns]"
      ]
     },
     "execution_count": 15,
     "metadata": {},
     "output_type": "execute_result"
    }
   ],
   "source": [
    "vertex_df = load_vertexlist_csv(f\"sr-user_{year}_filteredby_UsersInSubreddits_{year}~top-{topn}.vertex.csv\")\n",
    "vertex_df"
   ]
  },
  {
   "cell_type": "markdown",
   "id": "median-pharmaceutical",
   "metadata": {},
   "source": [
    "## Vertex list column plots"
   ]
  },
  {
   "cell_type": "code",
   "execution_count": 16,
   "id": "broad-sperm",
   "metadata": {},
   "outputs": [
    {
     "data": {
      "image/png": "[encoded data removed]",
      "text/plain": [
       "<Figure size 216x216 with 1 Axes>"
      ]
     },
     "metadata": {
      "needs_background": "light"
     },
     "output_type": "display_data"
    },
    {
     "data": {
      "image/png": "[encoded data removed]",
      "text/plain": [
       "<Figure size 216x216 with 1 Axes>"
      ]
     },
     "metadata": {
      "needs_background": "light"
     },
     "output_type": "display_data"
    },
    {
     "data": {
      "image/png": "[encoded data removed]",
      "text/plain": [
       "<Figure size 216x216 with 1 Axes>"
      ]
     },
     "metadata": {
      "needs_background": "light"
     },
     "output_type": "display_data"
    },
    {
     "data": {
      "image/png": "[encoded data removed]",
      "text/plain": [
       "<Figure size 216x216 with 1 Axes>"
      ]
     },
     "metadata": {
      "needs_background": "light"
     },
     "output_type": "display_data"
    },
    {
     "data": {
      "image/png": "[encoded data removed]",
      "text/plain": [
       "<Figure size 216x216 with 1 Axes>"
      ]
     },
     "metadata": {
      "needs_background": "light"
     },
     "output_type": "display_data"
    },
    {
     "data": {
      "image/png": "[encoded data removed]",
      "text/plain": [
       "<Figure size 216x216 with 1 Axes>"
      ]
     },
     "metadata": {
      "needs_background": "light"
     },
     "output_type": "display_data"
    }
   ],
   "source": [
    "plot_column_hist(vertex_df, \"Vertex\", \"Ui\", year, topn)\n",
    "plot_column_hist(vertex_df, \"Vertex\", \"degree\", year, topn)\n",
    "plot_column_hist(vertex_df, \"Vertex\", \"weighted-degree\", year, topn)\n",
    "plot_column_hist(vertex_df, \"Vertex\", \"degree-degree\", year, topn)\n",
    "plot_column_hist(vertex_df, \"Vertex\", \"weighted-degree-degree\", year, topn)\n",
    "plot_column_hist(vertex_df, \"Vertex\", \"local-clustering-coefficient\", year, topn)"
   ]
  }
 ],
 "metadata": {
  "kernelspec": {
   "display_name": "Python 3 (ipykernel)",
   "language": "python",
   "name": "python3"
  },
  "language_info": {
   "codemirror_mode": {
    "name": "ipython",
    "version": 3
   },
   "file_extension": ".py",
   "mimetype": "text/x-python",
   "name": "python",
   "nbconvert_exporter": "python",
   "pygments_lexer": "ipython3",
   "version": "3.9.2"
  }
 },
 "nbformat": 4,
 "nbformat_minor": 5
}
