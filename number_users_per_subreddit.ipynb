{
 "cells": [
  {
   "cell_type": "code",
   "execution_count": 1,
   "metadata": {
    "execution": {
     "iopub.execute_input": "2021-03-12T16:09:04.610829Z",
     "iopub.status.busy": "2021-03-12T16:09:04.610471Z",
     "iopub.status.idle": "2021-03-12T16:09:04.918641Z",
     "shell.execute_reply": "2021-03-12T16:09:04.918901Z"
    }
   },
   "outputs": [],
   "source": [
    "from settings_load import *\n",
    "from export_user_count import load_users_count_df\n",
    "import pandas as pd\n",
    "import matplotlib.pyplot as plt\n"
   ]
  },
  {
   "cell_type": "code",
   "execution_count": 2,
   "metadata": {
    "execution": {
     "iopub.execute_input": "2021-03-12T16:09:04.921771Z",
     "iopub.status.busy": "2021-03-12T16:09:04.921285Z",
     "iopub.status.idle": "2021-03-12T16:09:06.105003Z",
     "shell.execute_reply": "2021-03-12T16:09:06.104696Z"
    },
    "pycharm": {
     "name": "#%%\n"
    }
   },
   "outputs": [
    {
     "data": {
      "text/html": [
       "<div>\n",
       "<style scoped>\n",
       "    .dataframe tbody tr th:only-of-type {\n",
       "        vertical-align: middle;\n",
       "    }\n",
       "\n",
       "    .dataframe tbody tr th {\n",
       "        vertical-align: top;\n",
       "    }\n",
       "\n",
       "    .dataframe thead th {\n",
       "        text-align: right;\n",
       "    }\n",
       "</style>\n",
       "<table border=\"1\" class=\"dataframe\">\n",
       "  <thead>\n",
       "    <tr style=\"text-align: right;\">\n",
       "      <th></th>\n",
       "      <th>subreddit</th>\n",
       "      <th>count</th>\n",
       "    </tr>\n",
       "  </thead>\n",
       "  <tbody>\n",
       "    <tr>\n",
       "      <th>0</th>\n",
       "      <td>technicalafterbirth</td>\n",
       "      <td>7</td>\n",
       "    </tr>\n",
       "    <tr>\n",
       "      <th>1</th>\n",
       "      <td>u_ILove5H</td>\n",
       "      <td>1</td>\n",
       "    </tr>\n",
       "    <tr>\n",
       "      <th>2</th>\n",
       "      <td>u_tstw414</td>\n",
       "      <td>22</td>\n",
       "    </tr>\n",
       "    <tr>\n",
       "      <th>3</th>\n",
       "      <td>u_YTVILE</td>\n",
       "      <td>2</td>\n",
       "    </tr>\n",
       "    <tr>\n",
       "      <th>4</th>\n",
       "      <td>u_Mindstatepurple</td>\n",
       "      <td>1</td>\n",
       "    </tr>\n",
       "    <tr>\n",
       "      <th>...</th>\n",
       "      <td>...</td>\n",
       "      <td>...</td>\n",
       "    </tr>\n",
       "    <tr>\n",
       "      <th>3679637</th>\n",
       "      <td>u_Abigganglybarofsoap</td>\n",
       "      <td>1</td>\n",
       "    </tr>\n",
       "    <tr>\n",
       "      <th>3679638</th>\n",
       "      <td>u_e3raf_official</td>\n",
       "      <td>2</td>\n",
       "    </tr>\n",
       "    <tr>\n",
       "      <th>3679639</th>\n",
       "      <td>WorkersNews</td>\n",
       "      <td>3</td>\n",
       "    </tr>\n",
       "    <tr>\n",
       "      <th>3679640</th>\n",
       "      <td>WPISPS</td>\n",
       "      <td>22</td>\n",
       "    </tr>\n",
       "    <tr>\n",
       "      <th>3679641</th>\n",
       "      <td>u_RitaRicciardiKenya</td>\n",
       "      <td>1</td>\n",
       "    </tr>\n",
       "  </tbody>\n",
       "</table>\n",
       "<p>3679642 rows × 2 columns</p>\n",
       "</div>"
      ],
      "text/plain": [
       "                     subreddit  count\n",
       "0          technicalafterbirth      7\n",
       "1                    u_ILove5H      1\n",
       "2                    u_tstw414     22\n",
       "3                     u_YTVILE      2\n",
       "4            u_Mindstatepurple      1\n",
       "...                        ...    ...\n",
       "3679637  u_Abigganglybarofsoap      1\n",
       "3679638       u_e3raf_official      2\n",
       "3679639            WorkersNews      3\n",
       "3679640                 WPISPS     22\n",
       "3679641   u_RitaRicciardiKenya      1\n",
       "\n",
       "[3679642 rows x 2 columns]"
      ]
     },
     "execution_count": 1,
     "metadata": {},
     "output_type": "execute_result"
    }
   ],
   "source": [
    "df = load_users_count_df(\"UsersInSubreddits_2005-2019.csv\")\n",
    "df"
   ]
  },
  {
   "cell_type": "code",
   "execution_count": 3,
   "metadata": {
    "execution": {
     "iopub.execute_input": "2021-03-12T16:09:06.129615Z",
     "iopub.status.busy": "2021-03-12T16:09:06.129273Z",
     "iopub.status.idle": "2021-03-12T16:09:06.197074Z",
     "shell.execute_reply": "2021-03-12T16:09:06.196807Z"
    },
    "pycharm": {
     "name": "#%%\n"
    }
   },
   "outputs": [
    {
     "data": {
      "text/html": [
       "<div>\n",
       "<style scoped>\n",
       "    .dataframe tbody tr th:only-of-type {\n",
       "        vertical-align: middle;\n",
       "    }\n",
       "\n",
       "    .dataframe tbody tr th {\n",
       "        vertical-align: top;\n",
       "    }\n",
       "\n",
       "    .dataframe thead th {\n",
       "        text-align: right;\n",
       "    }\n",
       "</style>\n",
       "<table border=\"1\" class=\"dataframe\">\n",
       "  <thead>\n",
       "    <tr style=\"text-align: right;\">\n",
       "      <th></th>\n",
       "      <th>subreddit</th>\n",
       "      <th>count</th>\n",
       "    </tr>\n",
       "  </thead>\n",
       "  <tbody>\n",
       "    <tr>\n",
       "      <th>3147015</th>\n",
       "      <td>AskReddit</td>\n",
       "      <td>71233827</td>\n",
       "    </tr>\n",
       "    <tr>\n",
       "      <th>2432236</th>\n",
       "      <td>funny</td>\n",
       "      <td>28882078</td>\n",
       "    </tr>\n",
       "    <tr>\n",
       "      <th>1526473</th>\n",
       "      <td>pics</td>\n",
       "      <td>25886189</td>\n",
       "    </tr>\n",
       "    <tr>\n",
       "      <th>2242480</th>\n",
       "      <td>gaming</td>\n",
       "      <td>19312574</td>\n",
       "    </tr>\n",
       "    <tr>\n",
       "      <th>2389878</th>\n",
       "      <td>videos</td>\n",
       "      <td>16283626</td>\n",
       "    </tr>\n",
       "    <tr>\n",
       "      <th>2167683</th>\n",
       "      <td>todayilearned</td>\n",
       "      <td>14796435</td>\n",
       "    </tr>\n",
       "    <tr>\n",
       "      <th>42652</th>\n",
       "      <td>WTF</td>\n",
       "      <td>13238354</td>\n",
       "    </tr>\n",
       "    <tr>\n",
       "      <th>3474798</th>\n",
       "      <td>worldnews</td>\n",
       "      <td>12908501</td>\n",
       "    </tr>\n",
       "    <tr>\n",
       "      <th>47846</th>\n",
       "      <td>aww</td>\n",
       "      <td>12354192</td>\n",
       "    </tr>\n",
       "    <tr>\n",
       "      <th>942155</th>\n",
       "      <td>politics</td>\n",
       "      <td>11478928</td>\n",
       "    </tr>\n",
       "  </tbody>\n",
       "</table>\n",
       "</div>"
      ],
      "text/plain": [
       "             subreddit     count\n",
       "3147015      AskReddit  71233827\n",
       "2432236          funny  28882078\n",
       "1526473           pics  25886189\n",
       "2242480         gaming  19312574\n",
       "2389878         videos  16283626\n",
       "2167683  todayilearned  14796435\n",
       "42652              WTF  13238354\n",
       "3474798      worldnews  12908501\n",
       "47846              aww  12354192\n",
       "942155        politics  11478928"
      ]
     },
     "execution_count": 1,
     "metadata": {},
     "output_type": "execute_result"
    }
   ],
   "source": [
    "top_n = df.nlargest(10, 'count')\n",
    "top_n"
   ]
  },
  {
   "cell_type": "code",
   "execution_count": null,
   "metadata": {},
   "outputs": [],
   "source": []
  },
  {
   "cell_type": "code",
   "execution_count": 4,
   "metadata": {
    "execution": {
     "iopub.execute_input": "2021-03-12T16:09:06.207921Z",
     "iopub.status.busy": "2021-03-12T16:09:06.200283Z",
     "iopub.status.idle": "2021-03-12T16:09:06.799548Z",
     "shell.execute_reply": "2021-03-12T16:09:06.799285Z"
    }
   },
   "outputs": [
    {
     "data": {
      "text/plain": [
       "<AxesSubplot:title={'center':'Histogram of number of unique users per subreddit (2005-2019)'}, xlabel='Number of unique users in subreddit', ylabel='Number of subreddits'>"
      ]
     },
     "execution_count": 1,
     "metadata": {},
     "output_type": "execute_result"
    },
    {
     "data": {
      "image/png": "[encoded data removed]",
      "text/plain": [
       "<Figure size 1152x648 with 1 Axes>"
      ]
     },
     "metadata": {
      "needs_background": "light"
     },
     "output_type": "display_data"
    }
   ],
   "source": [
    "fig, ax = plt.subplots(figsize=(16, 9))\n",
    "\n",
    "plt.title('Histogram of number of unique users per subreddit (2005-2019)')\n",
    "plt.xlabel('Number of unique users in subreddit')\n",
    "plt.ylabel('Number of subreddits')\n",
    "\n",
    "df[\"count\"].hist(ax=ax, log=True, bins=100, grid=False, color='#FA5732')\n",
    "\n"
   ]
  },
  {
   "cell_type": "code",
   "execution_count": null,
   "metadata": {},
   "outputs": [],
   "source": []
  }
 ],
 "metadata": {
  "kernelspec": {
   "display_name": "Python 3",
   "language": "python",
   "name": "python3"
  },
  "language_info": {
   "codemirror_mode": {
    "name": "ipython",
    "version": 3
   },
   "file_extension": ".py",
   "mimetype": "text/x-python",
   "name": "python",
   "nbconvert_exporter": "python",
   "pygments_lexer": "ipython3",
   "version": "3.9.2"
  }
 },
 "nbformat": 4,
 "nbformat_minor": 4
}
